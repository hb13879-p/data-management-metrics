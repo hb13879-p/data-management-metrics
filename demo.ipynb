{
 "cells": [
  {
   "cell_type": "markdown",
   "metadata": {},
   "source": [
    "# Code Walkthrough"
   ]
  },
  {
   "cell_type": "markdown",
   "metadata": {},
   "source": [
    "This notebook describes the purpose and structure of the code provided"
   ]
  },
  {
   "cell_type": "markdown",
   "metadata": {},
   "source": [
    "This code was originally written for users wishing to get a better view of the quality, structure and relationships present within their various data sources. This would allow them to fix data quality issues, ensure GDPR compliance and better extract untapped insight from their data assets.\n",
    "\n",
    "This package facilitates the implementation of custom dashboards displaying custom metrics on a variety of data sources. The backend is organised into logical objects (data sources, metrics, dashboards etc) which allows decoupling of different data sources/connections, metric definitions, UIs and processing. \n",
    "\n",
    "For example you can show on one dashboard a selection of metrics all derived from different data sources, some of which are computed in memory, others where the processing is delegated to a SQL database server, all with a clean coding interface. It is also easy to add new bespoke metrics to the package. \n",
    "\n",
    "As well as implementing the backend, this code also implements an indicative frontend for one particular realisation of a dashboard."
   ]
  },
  {
   "cell_type": "markdown",
   "metadata": {},
   "source": [
    "The project is a work in progress b"
   ]
  },
  {
   "cell_type": "markdown",
   "metadata": {},
   "source": [
    "## Running the demo frontend\n",
    "\n",
    "To run, clone the package, install the requirements, ensure the example data is saved into the app/files folder and run python runserver.py"
   ]
  },
  {
   "cell_type": "markdown",
   "metadata": {},
   "source": [
    "## Backend Walkthrough\n",
    "\n",
    "### Summary\n",
    "The core classes are:\n",
    "- Tabular Readers\n",
    "To read various data formats (files or SQL queries) into in-memory dataframes\n",
    "- SQL connectors\n",
    "To connect to relational databases (any dialect)*\n",
    "- Data Sources\n",
    "Contains a data source and defines compute location\n",
    "- Metrics\n",
    "Functional code for various calculations. Also stores previously computed results\n",
    "- Dashboards\n",
    "Object conatining a collection of metrics and other dashboard-state data \n",
    "\n",
    "These backend classes can be found in the app/profiler folder of the repo.\n",
    "\n",
    "*NB all SQL functionality is omitted from the demo so it can be simply run in other environments"
   ]
  },
  {
   "cell_type": "markdown",
   "metadata": {},
   "source": [
    "### Tabular Readers and Data Sources"
   ]
  },
  {
   "cell_type": "code",
   "execution_count": 17,
   "metadata": {},
   "outputs": [
    {
     "data": {
      "text/html": [
       "<div>\n",
       "<style scoped>\n",
       "    .dataframe tbody tr th:only-of-type {\n",
       "        vertical-align: middle;\n",
       "    }\n",
       "\n",
       "    .dataframe tbody tr th {\n",
       "        vertical-align: top;\n",
       "    }\n",
       "\n",
       "    .dataframe thead th {\n",
       "        text-align: right;\n",
       "    }\n",
       "</style>\n",
       "<table border=\"1\" class=\"dataframe\">\n",
       "  <thead>\n",
       "    <tr style=\"text-align: right;\">\n",
       "      <th></th>\n",
       "      <th>a</th>\n",
       "      <th>b</th>\n",
       "      <th>c</th>\n",
       "    </tr>\n",
       "  </thead>\n",
       "  <tbody>\n",
       "    <tr>\n",
       "      <th>0</th>\n",
       "      <td>1</td>\n",
       "      <td>4</td>\n",
       "      <td>cat</td>\n",
       "    </tr>\n",
       "    <tr>\n",
       "      <th>1</th>\n",
       "      <td>2</td>\n",
       "      <td>5</td>\n",
       "      <td>dog</td>\n",
       "    </tr>\n",
       "    <tr>\n",
       "      <th>2</th>\n",
       "      <td>3</td>\n",
       "      <td>6</td>\n",
       "      <td>apple</td>\n",
       "    </tr>\n",
       "  </tbody>\n",
       "</table>\n",
       "</div>"
      ],
      "text/plain": [
       "   a  b      c\n",
       "0  1  4    cat\n",
       "1  2  5    dog\n",
       "2  3  6  apple"
      ]
     },
     "execution_count": 17,
     "metadata": {},
     "output_type": "execute_result"
    }
   ],
   "source": [
    "import warnings\n",
    "warnings.filterwarnings('ignore')\n",
    "from app.profiler.tabular_readers import CSVReader, JSONReader, ExcelReader, DataFrameReader\n",
    "\n",
    "csv_reader = CSVReader(r'app/files','demo_csv.csv')\n",
    "json_reader = JSONReader(r'app/files','demo_json.json')\n",
    "excel_reader = ExcelReader(r'app/files','demo_xlsx.xlsx')\n",
    "\n",
    "csv_reader.get_data()"
   ]
  },
  {
   "cell_type": "code",
   "execution_count": 2,
   "metadata": {},
   "outputs": [
    {
     "data": {
      "text/html": [
       "<div>\n",
       "<style scoped>\n",
       "    .dataframe tbody tr th:only-of-type {\n",
       "        vertical-align: middle;\n",
       "    }\n",
       "\n",
       "    .dataframe tbody tr th {\n",
       "        vertical-align: top;\n",
       "    }\n",
       "\n",
       "    .dataframe thead th {\n",
       "        text-align: right;\n",
       "    }\n",
       "</style>\n",
       "<table border=\"1\" class=\"dataframe\">\n",
       "  <thead>\n",
       "    <tr style=\"text-align: right;\">\n",
       "      <th></th>\n",
       "      <th>a</th>\n",
       "      <th>b</th>\n",
       "      <th>c</th>\n",
       "    </tr>\n",
       "  </thead>\n",
       "  <tbody>\n",
       "    <tr>\n",
       "      <th>0</th>\n",
       "      <td>1</td>\n",
       "      <td>4</td>\n",
       "      <td>cat</td>\n",
       "    </tr>\n",
       "    <tr>\n",
       "      <th>1</th>\n",
       "      <td>2</td>\n",
       "      <td>5</td>\n",
       "      <td>dog</td>\n",
       "    </tr>\n",
       "    <tr>\n",
       "      <th>2</th>\n",
       "      <td>3</td>\n",
       "      <td>6</td>\n",
       "      <td>apple</td>\n",
       "    </tr>\n",
       "  </tbody>\n",
       "</table>\n",
       "</div>"
      ],
      "text/plain": [
       "   a  b      c\n",
       "0  1  4    cat\n",
       "1  2  5    dog\n",
       "2  3  6  apple"
      ]
     },
     "execution_count": 2,
     "metadata": {},
     "output_type": "execute_result"
    }
   ],
   "source": [
    "json_reader.get_data()"
   ]
  },
  {
   "cell_type": "code",
   "execution_count": 3,
   "metadata": {},
   "outputs": [
    {
     "data": {
      "text/html": [
       "<div>\n",
       "<style scoped>\n",
       "    .dataframe tbody tr th:only-of-type {\n",
       "        vertical-align: middle;\n",
       "    }\n",
       "\n",
       "    .dataframe tbody tr th {\n",
       "        vertical-align: top;\n",
       "    }\n",
       "\n",
       "    .dataframe thead th {\n",
       "        text-align: right;\n",
       "    }\n",
       "</style>\n",
       "<table border=\"1\" class=\"dataframe\">\n",
       "  <thead>\n",
       "    <tr style=\"text-align: right;\">\n",
       "      <th></th>\n",
       "      <th>a</th>\n",
       "      <th>b</th>\n",
       "      <th>c</th>\n",
       "    </tr>\n",
       "  </thead>\n",
       "  <tbody>\n",
       "    <tr>\n",
       "      <th>0</th>\n",
       "      <td>1</td>\n",
       "      <td>4</td>\n",
       "      <td>cat</td>\n",
       "    </tr>\n",
       "    <tr>\n",
       "      <th>1</th>\n",
       "      <td>2</td>\n",
       "      <td>5</td>\n",
       "      <td>dog</td>\n",
       "    </tr>\n",
       "    <tr>\n",
       "      <th>2</th>\n",
       "      <td>3</td>\n",
       "      <td>6</td>\n",
       "      <td>apple</td>\n",
       "    </tr>\n",
       "  </tbody>\n",
       "</table>\n",
       "</div>"
      ],
      "text/plain": [
       "   a  b      c\n",
       "0  1  4    cat\n",
       "1  2  5    dog\n",
       "2  3  6  apple"
      ]
     },
     "execution_count": 3,
     "metadata": {},
     "output_type": "execute_result"
    }
   ],
   "source": [
    "excel_reader.get_data()"
   ]
  },
  {
   "cell_type": "markdown",
   "metadata": {},
   "source": [
    "Another supported version for the above is a SQL table or query that returns tabular data small enough to fit in memory.\n",
    "\n",
    "In memory data sources take tabular data as an argument and are initialised as below:"
   ]
  },
  {
   "cell_type": "code",
   "execution_count": 4,
   "metadata": {},
   "outputs": [],
   "source": [
    "from app.profiler.data_sources import InMemoryDataSource"
   ]
  },
  {
   "cell_type": "code",
   "execution_count": 5,
   "metadata": {},
   "outputs": [
    {
     "data": {
      "text/plain": [
       "Index(['a', 'b', 'c'], dtype='object')"
      ]
     },
     "execution_count": 5,
     "metadata": {},
     "output_type": "execute_result"
    }
   ],
   "source": [
    "ds = InMemoryDataSource(csv_reader)\n",
    "ds.get_column_names()"
   ]
  },
  {
   "cell_type": "markdown",
   "metadata": {},
   "source": [
    "The underlying source for a SQLDataSource is a SQLViewConnector rather than TabularReader"
   ]
  },
  {
   "cell_type": "markdown",
   "metadata": {},
   "source": [
    "### Metrics"
   ]
  },
  {
   "cell_type": "markdown",
   "metadata": {},
   "source": [
    "Metrics are defined by 2 things - a calculation definition and a data source. They can be initialised with all necessary parameters without being calculated, then their calculation code can be run on demand. Once run, the result is stored as an attribute. Note the actual computation happens as dictated by the data source (either in memory or on the DB server). When called, the metric passes the calculation code to the data source, which then executes it on its data in the desired environment. "
   ]
  },
  {
   "cell_type": "code",
   "execution_count": 6,
   "metadata": {},
   "outputs": [],
   "source": [
    "from app.profiler.metrics import *"
   ]
  },
  {
   "cell_type": "code",
   "execution_count": 7,
   "metadata": {},
   "outputs": [
    {
     "data": {
      "text/plain": [
       "(3, 3)"
      ]
     },
     "execution_count": 7,
     "metadata": {},
     "output_type": "execute_result"
    }
   ],
   "source": [
    "# Initialise metric with data source\n",
    "demo_data_tot_rows_cols = TotalRowsCols(ds)\n",
    "# Call metric to run calculation\n",
    "demo_data_tot_rows_cols()\n",
    "# Each time result is needed, retrieve from result attribute\n",
    "rows,cols = demo_data_tot_rows_cols.get_result()\n",
    "rows,cols"
   ]
  },
  {
   "cell_type": "markdown",
   "metadata": {},
   "source": [
    "If the function requires parameters, these can be passed in on instatiation:"
   ]
  },
  {
   "cell_type": "code",
   "execution_count": 8,
   "metadata": {},
   "outputs": [
    {
     "data": {
      "text/html": [
       "<div>\n",
       "<style scoped>\n",
       "    .dataframe tbody tr th:only-of-type {\n",
       "        vertical-align: middle;\n",
       "    }\n",
       "\n",
       "    .dataframe tbody tr th {\n",
       "        vertical-align: top;\n",
       "    }\n",
       "\n",
       "    .dataframe thead th {\n",
       "        text-align: right;\n",
       "    }\n",
       "</style>\n",
       "<table border=\"1\" class=\"dataframe\">\n",
       "  <thead>\n",
       "    <tr style=\"text-align: right;\">\n",
       "      <th></th>\n",
       "      <th>a</th>\n",
       "      <th>b</th>\n",
       "      <th>c</th>\n",
       "    </tr>\n",
       "  </thead>\n",
       "  <tbody>\n",
       "    <tr>\n",
       "      <th>0</th>\n",
       "      <td>1.0</td>\n",
       "      <td>NaN</td>\n",
       "      <td>cat</td>\n",
       "    </tr>\n",
       "    <tr>\n",
       "      <th>1</th>\n",
       "      <td>2.0</td>\n",
       "      <td>5.0</td>\n",
       "      <td>dog</td>\n",
       "    </tr>\n",
       "    <tr>\n",
       "      <th>2</th>\n",
       "      <td>NaN</td>\n",
       "      <td>6.0</td>\n",
       "      <td>NaN</td>\n",
       "    </tr>\n",
       "  </tbody>\n",
       "</table>\n",
       "</div>"
      ],
      "text/plain": [
       "     a    b    c\n",
       "0  1.0  NaN  cat\n",
       "1  2.0  5.0  dog\n",
       "2  NaN  6.0  NaN"
      ]
     },
     "execution_count": 8,
     "metadata": {},
     "output_type": "execute_result"
    }
   ],
   "source": [
    "# new data table for this example\n",
    "csv2 = CSVReader(r'app/files','demo_csv_2.csv')\n",
    "csv2.get_data()"
   ]
  },
  {
   "cell_type": "code",
   "execution_count": 9,
   "metadata": {},
   "outputs": [
    {
     "data": {
      "text/plain": [
       "0.33"
      ]
     },
     "execution_count": 9,
     "metadata": {},
     "output_type": "execute_result"
    }
   ],
   "source": [
    "ds2 = InMemoryDataSource(csv2)\n",
    "# Initialise metric \n",
    "demo_data_blank_cells_as_pc = TotalBlankCells(ds2, {'pc':True})\n",
    "demo_data_blank_cells = TotalBlankCells(ds2, {'pc':False})\n",
    "# calculate on demand\n",
    "demo_data_blank_cells()\n",
    "demo_data_blank_cells_as_pc()\n",
    "# retrieve result as %\n",
    "demo_data_blank_cells_as_pc.get_result()"
   ]
  },
  {
   "cell_type": "code",
   "execution_count": 10,
   "metadata": {},
   "outputs": [
    {
     "data": {
      "text/plain": [
       "3"
      ]
     },
     "execution_count": 10,
     "metadata": {},
     "output_type": "execute_result"
    }
   ],
   "source": [
    "# retrieve result as total number\n",
    "demo_data_blank_cells.get_result()"
   ]
  },
  {
   "cell_type": "code",
   "execution_count": 11,
   "metadata": {},
   "outputs": [
    {
     "data": {
      "text/plain": [
       "0.33"
      ]
     },
     "execution_count": 11,
     "metadata": {},
     "output_type": "execute_result"
    }
   ],
   "source": [
    "# function parameters can also be changed at calculation time\n",
    "demo_data_blank_cells(pc=True)"
   ]
  },
  {
   "cell_type": "markdown",
   "metadata": {},
   "source": [
    "Metric code can also be called as a static method for one-off calculation"
   ]
  },
  {
   "cell_type": "code",
   "execution_count": 12,
   "metadata": {},
   "outputs": [
    {
     "data": {
      "text/html": [
       "<div>\n",
       "<style scoped>\n",
       "    .dataframe tbody tr th:only-of-type {\n",
       "        vertical-align: middle;\n",
       "    }\n",
       "\n",
       "    .dataframe tbody tr th {\n",
       "        vertical-align: top;\n",
       "    }\n",
       "\n",
       "    .dataframe thead th {\n",
       "        text-align: right;\n",
       "    }\n",
       "</style>\n",
       "<table border=\"1\" class=\"dataframe\">\n",
       "  <thead>\n",
       "    <tr style=\"text-align: right;\">\n",
       "      <th></th>\n",
       "      <th>symbol</th>\n",
       "      <th>price</th>\n",
       "    </tr>\n",
       "  </thead>\n",
       "  <tbody>\n",
       "    <tr>\n",
       "      <th>0</th>\n",
       "      <td>A</td>\n",
       "      <td>12</td>\n",
       "    </tr>\n",
       "    <tr>\n",
       "      <th>1</th>\n",
       "      <td>B</td>\n",
       "      <td>24</td>\n",
       "    </tr>\n",
       "    <tr>\n",
       "      <th>2</th>\n",
       "      <td>C</td>\n",
       "      <td>48</td>\n",
       "    </tr>\n",
       "    <tr>\n",
       "      <th>3</th>\n",
       "      <td>A</td>\n",
       "      <td>14</td>\n",
       "    </tr>\n",
       "    <tr>\n",
       "      <th>4</th>\n",
       "      <td>B</td>\n",
       "      <td>13</td>\n",
       "    </tr>\n",
       "    <tr>\n",
       "      <th>5</th>\n",
       "      <td>C</td>\n",
       "      <td>20</td>\n",
       "    </tr>\n",
       "  </tbody>\n",
       "</table>\n",
       "</div>"
      ],
      "text/plain": [
       "  symbol  price\n",
       "0      A     12\n",
       "1      B     24\n",
       "2      C     48\n",
       "3      A     14\n",
       "4      B     13\n",
       "5      C     20"
      ]
     },
     "execution_count": 12,
     "metadata": {},
     "output_type": "execute_result"
    }
   ],
   "source": [
    "import pandas as pd\n",
    "\n",
    "df = pd.DataFrame({\n",
    "                \"symbol\": [\"A\", \"B\", \"C\", \"A\", \"B\", \"C\"],\n",
    "                \"price\": [12, 24, 48, 14, 13, 20],\n",
    "            })\n",
    "df\n"
   ]
  },
  {
   "cell_type": "code",
   "execution_count": 13,
   "metadata": {},
   "outputs": [
    {
     "data": {
      "text/html": [
       "<div>\n",
       "<style scoped>\n",
       "    .dataframe tbody tr th:only-of-type {\n",
       "        vertical-align: middle;\n",
       "    }\n",
       "\n",
       "    .dataframe tbody tr th {\n",
       "        vertical-align: top;\n",
       "    }\n",
       "\n",
       "    .dataframe thead th {\n",
       "        text-align: right;\n",
       "    }\n",
       "</style>\n",
       "<table border=\"1\" class=\"dataframe\">\n",
       "  <thead>\n",
       "    <tr style=\"text-align: right;\">\n",
       "      <th></th>\n",
       "      <th>01. Column Name</th>\n",
       "      <th>02. Data Type</th>\n",
       "      <th>03. Row Count</th>\n",
       "      <th>04. Nulls</th>\n",
       "      <th>05. Non-Nulls</th>\n",
       "      <th>06. No. Unique Values</th>\n",
       "      <th>07. Average Value</th>\n",
       "      <th>08. Standard Deviation</th>\n",
       "      <th>09. Minimum</th>\n",
       "      <th>10. Maximum</th>\n",
       "      <th>11. 25%</th>\n",
       "      <th>12. 50%</th>\n",
       "      <th>13. 75%</th>\n",
       "      <th>count</th>\n",
       "    </tr>\n",
       "  </thead>\n",
       "  <tbody>\n",
       "    <tr>\n",
       "      <th>0</th>\n",
       "      <td>symbol</td>\n",
       "      <td>object</td>\n",
       "      <td>6</td>\n",
       "      <td>0</td>\n",
       "      <td>6</td>\n",
       "      <td>3</td>\n",
       "      <td>NaN</td>\n",
       "      <td>NaN</td>\n",
       "      <td>NaN</td>\n",
       "      <td>NaN</td>\n",
       "      <td>NaN</td>\n",
       "      <td>NaN</td>\n",
       "      <td>NaN</td>\n",
       "      <td>NaN</td>\n",
       "    </tr>\n",
       "    <tr>\n",
       "      <th>1</th>\n",
       "      <td>price</td>\n",
       "      <td>int64</td>\n",
       "      <td>6</td>\n",
       "      <td>0</td>\n",
       "      <td>6</td>\n",
       "      <td>6</td>\n",
       "      <td>21.833333</td>\n",
       "      <td>13.629625</td>\n",
       "      <td>12.0</td>\n",
       "      <td>48.0</td>\n",
       "      <td>13.25</td>\n",
       "      <td>17.0</td>\n",
       "      <td>23.0</td>\n",
       "      <td>6.0</td>\n",
       "    </tr>\n",
       "  </tbody>\n",
       "</table>\n",
       "</div>"
      ],
      "text/plain": [
       "  01. Column Name 02. Data Type  03. Row Count  04. Nulls  05. Non-Nulls  \\\n",
       "0          symbol        object              6          0              6   \n",
       "1           price         int64              6          0              6   \n",
       "\n",
       "   06. No. Unique Values  07. Average Value  08. Standard Deviation  \\\n",
       "0                      3                NaN                     NaN   \n",
       "1                      6          21.833333               13.629625   \n",
       "\n",
       "   09. Minimum  10. Maximum  11. 25%  12. 50%  13. 75%  count  \n",
       "0          NaN          NaN      NaN      NaN      NaN    NaN  \n",
       "1         12.0         48.0    13.25     17.0     23.0    6.0  "
      ]
     },
     "execution_count": 13,
     "metadata": {},
     "output_type": "execute_result"
    }
   ],
   "source": [
    "BasicProfile.calculate_in_mem(df, incl_graph=False)"
   ]
  },
  {
   "cell_type": "code",
   "execution_count": 14,
   "metadata": {},
   "outputs": [
    {
     "data": {
      "text/plain": [
       "(6, 2)"
      ]
     },
     "execution_count": 14,
     "metadata": {},
     "output_type": "execute_result"
    }
   ],
   "source": [
    "TotalRowsCols.calculate_in_mem(df)"
   ]
  },
  {
   "cell_type": "code",
   "execution_count": 15,
   "metadata": {},
   "outputs": [
    {
     "data": {
      "text/plain": [
       "0.0"
      ]
     },
     "execution_count": 15,
     "metadata": {},
     "output_type": "execute_result"
    }
   ],
   "source": [
    "TotalBlankCells.calculate_in_mem(df, pc=True)"
   ]
  },
  {
   "cell_type": "markdown",
   "metadata": {},
   "source": [
    "More complex and bespoke metrics can be easily applied as above. For example the below imports a pretrained ML model to extract valid string but invalid addresses from the specified column:"
   ]
  },
  {
   "cell_type": "code",
   "execution_count": 19,
   "metadata": {},
   "outputs": [
    {
     "data": {
      "text/html": [
       "<div>\n",
       "<style scoped>\n",
       "    .dataframe tbody tr th:only-of-type {\n",
       "        vertical-align: middle;\n",
       "    }\n",
       "\n",
       "    .dataframe tbody tr th {\n",
       "        vertical-align: top;\n",
       "    }\n",
       "\n",
       "    .dataframe thead th {\n",
       "        text-align: right;\n",
       "    }\n",
       "</style>\n",
       "<table border=\"1\" class=\"dataframe\">\n",
       "  <thead>\n",
       "    <tr style=\"text-align: right;\">\n",
       "      <th></th>\n",
       "      <th>user_id</th>\n",
       "      <th>addr</th>\n",
       "      <th>Validity Score</th>\n",
       "    </tr>\n",
       "  </thead>\n",
       "  <tbody>\n",
       "    <tr>\n",
       "      <th>2</th>\n",
       "      <td>3</td>\n",
       "      <td>No address found here</td>\n",
       "      <td>0.32</td>\n",
       "    </tr>\n",
       "  </tbody>\n",
       "</table>\n",
       "</div>"
      ],
      "text/plain": [
       "   user_id                   addr  Validity Score\n",
       "2        3  No address found here            0.32"
      ]
     },
     "execution_count": 19,
     "metadata": {},
     "output_type": "execute_result"
    }
   ],
   "source": [
    "df = pd.DataFrame({\n",
    "                \"user_id\": [1, 2, 3],\n",
    "                \"address\": ['4 Mill Lane, London', '56 Cowper Street, Edinburgh', 'No address found here'],\n",
    "            })\n",
    "ds = InMemoryDataSource(DataFrameReader(df))\n",
    "\n",
    "demo_bad_address_metric = DetectBadAddress(ds, {'id_col':'user_id','address_col':['address']})\n",
    "demo_bad_address_metric()\n",
    "ans = demo_bad_address_metric.get_result()\n",
    "# print those with validity score < 50%\n",
    "ans.loc[ans[\"Validity Score\"] < 0.5]"
   ]
  },
  {
   "cell_type": "markdown",
   "metadata": {},
   "source": [
    "It's easy to add a new metric to the system:"
   ]
  },
  {
   "cell_type": "code",
   "execution_count": 23,
   "metadata": {},
   "outputs": [],
   "source": [
    "class AddOnes(Metric):\n",
    "    def __init__(self, data_source, metric_args={}):\n",
    "        super().__init__(data_source, metric_args)\n",
    "        \n",
    "    @staticmethod\n",
    "    def calculate_in_mem(inp):\n",
    "        inp['ones'] = 1\n",
    "        return inp\n",
    "    "
   ]
  },
  {
   "cell_type": "code",
   "execution_count": 24,
   "metadata": {},
   "outputs": [
    {
     "data": {
      "text/html": [
       "<div>\n",
       "<style scoped>\n",
       "    .dataframe tbody tr th:only-of-type {\n",
       "        vertical-align: middle;\n",
       "    }\n",
       "\n",
       "    .dataframe tbody tr th {\n",
       "        vertical-align: top;\n",
       "    }\n",
       "\n",
       "    .dataframe thead th {\n",
       "        text-align: right;\n",
       "    }\n",
       "</style>\n",
       "<table border=\"1\" class=\"dataframe\">\n",
       "  <thead>\n",
       "    <tr style=\"text-align: right;\">\n",
       "      <th></th>\n",
       "      <th>user_id</th>\n",
       "      <th>address</th>\n",
       "      <th>ones</th>\n",
       "    </tr>\n",
       "  </thead>\n",
       "  <tbody>\n",
       "    <tr>\n",
       "      <th>0</th>\n",
       "      <td>1</td>\n",
       "      <td>4 Mill Lane, London</td>\n",
       "      <td>1</td>\n",
       "    </tr>\n",
       "    <tr>\n",
       "      <th>1</th>\n",
       "      <td>2</td>\n",
       "      <td>56 Cowper Street, Edinburgh</td>\n",
       "      <td>1</td>\n",
       "    </tr>\n",
       "    <tr>\n",
       "      <th>2</th>\n",
       "      <td>3</td>\n",
       "      <td>No address found here</td>\n",
       "      <td>1</td>\n",
       "    </tr>\n",
       "  </tbody>\n",
       "</table>\n",
       "</div>"
      ],
      "text/plain": [
       "   user_id                      address  ones\n",
       "0        1          4 Mill Lane, London     1\n",
       "1        2  56 Cowper Street, Edinburgh     1\n",
       "2        3        No address found here     1"
      ]
     },
     "execution_count": 24,
     "metadata": {},
     "output_type": "execute_result"
    }
   ],
   "source": [
    "demo_add_ones = AddOnes(ds)\n",
    "demo_add_ones()"
   ]
  },
  {
   "cell_type": "markdown",
   "metadata": {},
   "source": [
    "### Dashboards"
   ]
  },
  {
   "cell_type": "markdown",
   "metadata": {},
   "source": [
    "Dashboards are objects containing a list of metrics and other dashboard state information. They should contain all the data needed for a frontend to simply call and manipulate as needed on the UI."
   ]
  },
  {
   "cell_type": "code",
   "execution_count": 25,
   "metadata": {},
   "outputs": [
    {
     "data": {
      "text/plain": [
       "[  01. Column Name 02. Data Type  03. Row Count  04. Nulls  05. Non-Nulls  \\\n",
       " 0               a         int64              3          0              3   \n",
       " 1               b         int64              3          0              3   \n",
       " 2               c        object              3          0              3   \n",
       " \n",
       "    06. No. Unique Values  07. Average Value  08. Standard Deviation  \\\n",
       " 0                      3                2.0                     1.0   \n",
       " 1                      3                5.0                     1.0   \n",
       " 2                      3                NaN                     NaN   \n",
       " \n",
       "    09. Minimum  10. Maximum  11. 25%  12. 50%  13. 75%  count  \n",
       " 0          1.0          3.0      1.5      2.0      2.5    3.0  \n",
       " 1          4.0          6.0      4.5      5.0      5.5    3.0  \n",
       " 2          NaN          NaN      NaN      NaN      NaN    NaN  ,\n",
       " (3, 3),\n",
       " 0.0]"
      ]
     },
     "execution_count": 25,
     "metadata": {},
     "output_type": "execute_result"
    }
   ],
   "source": [
    "from app.profiler.dashboards import *\n",
    "\n",
    "demo_data_source = InMemoryDataSource(CSVReader(r'app/files','demo_csv.csv'))\n",
    "custom_dash = Dashboard()\n",
    "custom_dash.add_metrics([BasicProfile(demo_data_source,{'incl_graph':False}),TotalRowsCols(demo_data_source),TotalBlankCells(demo_data_source,{'pc':True})])\n",
    "custom_dash.calculate_dashboard()\n",
    "custom_dash.get_all_results()"
   ]
  },
  {
   "cell_type": "markdown",
   "metadata": {},
   "source": [
    "Dashboards therefore don't depend on data sources directly, so it is easy to view metrics calculated from different sources in one view. Likewise, custom metrics can be integrated, underlying file structures can be swapped out and compute can be delegated with minimal impact on the codebase.\n",
    "\n"
   ]
  },
  {
   "cell_type": "markdown",
   "metadata": {},
   "source": [
    "# Example Frontend"
   ]
  },
  {
   "cell_type": "markdown",
   "metadata": {},
   "source": [
    "To see a more fleshed-out version of a dasboard with UI implementation, do the following:\n",
    "\n",
    "1. clone this repo\n",
    "2. create  and activate virtual environment (`python3 -m venv venv && source venv/bin/activate`)\n",
    "3. `pip install -r requirements.txt`\n",
    "4. make sure mortgage_data_v4.csv is saved in app/files directory\n",
    "5. `python runserver.py` - the dashboard should now be available at http://localhost:8080\n",
    "\n",
    "Click through as prompted to see the results.\n",
    "\n",
    "If this is not possible, screenshots are available in the README.md file"
   ]
  },
  {
   "cell_type": "markdown",
   "metadata": {},
   "source": [
    "# Run Tests"
   ]
  },
  {
   "cell_type": "markdown",
   "metadata": {},
   "source": [
    "To run the unit tests, use the shell script ./run_tests.sh, remembering to allow execute permissions first (`chmod +x run_tests.sh`)"
   ]
  }
 ],
 "metadata": {
  "kernelspec": {
   "display_name": "venv",
   "language": "python",
   "name": "venv"
  },
  "language_info": {
   "codemirror_mode": {
    "name": "ipython",
    "version": 3
   },
   "file_extension": ".py",
   "mimetype": "text/x-python",
   "name": "python",
   "nbconvert_exporter": "python",
   "pygments_lexer": "ipython3",
   "version": "3.6.9"
  }
 },
 "nbformat": 4,
 "nbformat_minor": 2
}
